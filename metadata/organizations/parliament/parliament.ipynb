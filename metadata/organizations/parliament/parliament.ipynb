{
 "cells": [
  {
   "cell_type": "code",
   "execution_count": 30,
   "metadata": {},
   "outputs": [],
   "source": [
    "import datetime\n",
    "from datetime import date, datetime, timedelta\n",
    "import pandas as pd"
   ]
  },
  {
   "cell_type": "code",
   "execution_count": 1,
   "metadata": {},
   "outputs": [],
   "source": [
    "# generate parliamentary sessions\n",
    "\n",
    "year1 = 1998"
   ]
  },
  {
   "cell_type": "code",
   "execution_count": 10,
   "metadata": {},
   "outputs": [],
   "source": [
    "t = date(1998, 10, 1)"
   ]
  },
  {
   "cell_type": "code",
   "execution_count": 9,
   "metadata": {},
   "outputs": [],
   "source": [
    "d = timedelta(365)"
   ]
  },
  {
   "cell_type": "code",
   "execution_count": 12,
   "metadata": {},
   "outputs": [
    {
     "data": {
      "text/plain": [
       "datetime.date(1999, 10, 1)"
      ]
     },
     "execution_count": 12,
     "metadata": {},
     "output_type": "execute_result"
    }
   ],
   "source": [
    "t + d"
   ]
  },
  {
   "cell_type": "code",
   "execution_count": 19,
   "metadata": {},
   "outputs": [
    {
     "data": {
      "text/plain": [
       "datetime.date(2003, 10, 1)"
      ]
     },
     "execution_count": 19,
     "metadata": {},
     "output_type": "execute_result"
    }
   ],
   "source": [
    "t.replace(year = 2003)"
   ]
  },
  {
   "cell_type": "code",
   "execution_count": 27,
   "metadata": {},
   "outputs": [],
   "source": [
    "def add_year(d):\n",
    "    return d.replace(year = d.year + 1)"
   ]
  },
  {
   "cell_type": "code",
   "execution_count": 43,
   "metadata": {},
   "outputs": [
    {
     "data": {
      "text/html": [
       "<div>\n",
       "<style scoped>\n",
       "    .dataframe tbody tr th:only-of-type {\n",
       "        vertical-align: middle;\n",
       "    }\n",
       "\n",
       "    .dataframe tbody tr th {\n",
       "        vertical-align: top;\n",
       "    }\n",
       "\n",
       "    .dataframe thead th {\n",
       "        text-align: right;\n",
       "    }\n",
       "</style>\n",
       "<table border=\"1\" class=\"dataframe\">\n",
       "  <thead>\n",
       "    <tr style=\"text-align: right;\">\n",
       "      <th></th>\n",
       "      <th>session_id</th>\n",
       "      <th>start_date</th>\n",
       "      <th>end_date</th>\n",
       "    </tr>\n",
       "  </thead>\n",
       "  <tbody>\n",
       "    <tr>\n",
       "      <th>0</th>\n",
       "      <td>1998-1999</td>\n",
       "      <td>1998-10-01</td>\n",
       "      <td>1999-09-30</td>\n",
       "    </tr>\n",
       "    <tr>\n",
       "      <th>1</th>\n",
       "      <td>1999-2000</td>\n",
       "      <td>1999-10-01</td>\n",
       "      <td>2000-09-30</td>\n",
       "    </tr>\n",
       "    <tr>\n",
       "      <th>2</th>\n",
       "      <td>2000-2001</td>\n",
       "      <td>2000-10-01</td>\n",
       "      <td>2001-09-30</td>\n",
       "    </tr>\n",
       "    <tr>\n",
       "      <th>3</th>\n",
       "      <td>2001-2002</td>\n",
       "      <td>2001-10-01</td>\n",
       "      <td>2002-09-30</td>\n",
       "    </tr>\n",
       "    <tr>\n",
       "      <th>4</th>\n",
       "      <td>2002-2003</td>\n",
       "      <td>2002-10-01</td>\n",
       "      <td>2003-09-30</td>\n",
       "    </tr>\n",
       "    <tr>\n",
       "      <th>5</th>\n",
       "      <td>2003-2004</td>\n",
       "      <td>2003-10-01</td>\n",
       "      <td>2004-09-30</td>\n",
       "    </tr>\n",
       "    <tr>\n",
       "      <th>6</th>\n",
       "      <td>2004-2005</td>\n",
       "      <td>2004-10-01</td>\n",
       "      <td>2005-09-30</td>\n",
       "    </tr>\n",
       "    <tr>\n",
       "      <th>7</th>\n",
       "      <td>2005-2006</td>\n",
       "      <td>2005-10-01</td>\n",
       "      <td>2006-09-30</td>\n",
       "    </tr>\n",
       "    <tr>\n",
       "      <th>8</th>\n",
       "      <td>2006-2007</td>\n",
       "      <td>2006-10-01</td>\n",
       "      <td>2007-09-30</td>\n",
       "    </tr>\n",
       "    <tr>\n",
       "      <th>9</th>\n",
       "      <td>2007-2008</td>\n",
       "      <td>2007-10-01</td>\n",
       "      <td>2008-09-30</td>\n",
       "    </tr>\n",
       "    <tr>\n",
       "      <th>10</th>\n",
       "      <td>2008-2009</td>\n",
       "      <td>2008-10-01</td>\n",
       "      <td>2009-09-30</td>\n",
       "    </tr>\n",
       "    <tr>\n",
       "      <th>11</th>\n",
       "      <td>2009-2010</td>\n",
       "      <td>2009-10-01</td>\n",
       "      <td>2010-09-30</td>\n",
       "    </tr>\n",
       "    <tr>\n",
       "      <th>12</th>\n",
       "      <td>2010-2011</td>\n",
       "      <td>2010-10-01</td>\n",
       "      <td>2011-09-30</td>\n",
       "    </tr>\n",
       "    <tr>\n",
       "      <th>13</th>\n",
       "      <td>2011-2012</td>\n",
       "      <td>2011-10-01</td>\n",
       "      <td>2012-09-30</td>\n",
       "    </tr>\n",
       "    <tr>\n",
       "      <th>14</th>\n",
       "      <td>2012-2013</td>\n",
       "      <td>2012-10-01</td>\n",
       "      <td>2013-09-30</td>\n",
       "    </tr>\n",
       "    <tr>\n",
       "      <th>15</th>\n",
       "      <td>2013-2014</td>\n",
       "      <td>2013-10-01</td>\n",
       "      <td>2014-09-30</td>\n",
       "    </tr>\n",
       "    <tr>\n",
       "      <th>16</th>\n",
       "      <td>2014-2015</td>\n",
       "      <td>2014-10-01</td>\n",
       "      <td>2015-09-30</td>\n",
       "    </tr>\n",
       "    <tr>\n",
       "      <th>17</th>\n",
       "      <td>2015-2016</td>\n",
       "      <td>2015-10-01</td>\n",
       "      <td>2016-09-30</td>\n",
       "    </tr>\n",
       "    <tr>\n",
       "      <th>18</th>\n",
       "      <td>2016-2017</td>\n",
       "      <td>2016-10-01</td>\n",
       "      <td>2017-09-30</td>\n",
       "    </tr>\n",
       "    <tr>\n",
       "      <th>19</th>\n",
       "      <td>2017-2018</td>\n",
       "      <td>2017-10-01</td>\n",
       "      <td>2018-09-30</td>\n",
       "    </tr>\n",
       "    <tr>\n",
       "      <th>20</th>\n",
       "      <td>2018-2019</td>\n",
       "      <td>2018-10-01</td>\n",
       "      <td>2019-09-30</td>\n",
       "    </tr>\n",
       "    <tr>\n",
       "      <th>21</th>\n",
       "      <td>2019-2020</td>\n",
       "      <td>2019-10-01</td>\n",
       "      <td>2020-09-30</td>\n",
       "    </tr>\n",
       "    <tr>\n",
       "      <th>22</th>\n",
       "      <td>2020-2021</td>\n",
       "      <td>2020-10-01</td>\n",
       "      <td>2021-09-30</td>\n",
       "    </tr>\n",
       "  </tbody>\n",
       "</table>\n",
       "</div>"
      ],
      "text/plain": [
       "   session_id  start_date    end_date\n",
       "0   1998-1999  1998-10-01  1999-09-30\n",
       "1   1999-2000  1999-10-01  2000-09-30\n",
       "2   2000-2001  2000-10-01  2001-09-30\n",
       "3   2001-2002  2001-10-01  2002-09-30\n",
       "4   2002-2003  2002-10-01  2003-09-30\n",
       "5   2003-2004  2003-10-01  2004-09-30\n",
       "6   2004-2005  2004-10-01  2005-09-30\n",
       "7   2005-2006  2005-10-01  2006-09-30\n",
       "8   2006-2007  2006-10-01  2007-09-30\n",
       "9   2007-2008  2007-10-01  2008-09-30\n",
       "10  2008-2009  2008-10-01  2009-09-30\n",
       "11  2009-2010  2009-10-01  2010-09-30\n",
       "12  2010-2011  2010-10-01  2011-09-30\n",
       "13  2011-2012  2011-10-01  2012-09-30\n",
       "14  2012-2013  2012-10-01  2013-09-30\n",
       "15  2013-2014  2013-10-01  2014-09-30\n",
       "16  2014-2015  2014-10-01  2015-09-30\n",
       "17  2015-2016  2015-10-01  2016-09-30\n",
       "18  2016-2017  2016-10-01  2017-09-30\n",
       "19  2017-2018  2017-10-01  2018-09-30\n",
       "20  2018-2019  2018-10-01  2019-09-30\n",
       "21  2019-2020  2019-10-01  2020-09-30\n",
       "22  2020-2021  2020-10-01  2021-09-30"
      ]
     },
     "execution_count": 43,
     "metadata": {},
     "output_type": "execute_result"
    }
   ],
   "source": [
    "y1 = date(1998, 10, 1)\n",
    "y2 = date(1999, 9, 30)\n",
    "n = 23\n",
    "\n",
    "start = list()\n",
    "end = list()\n",
    "id = list()\n",
    "\n",
    "for x in range(n):\n",
    "    start += [y1]\n",
    "    end += [y2]\n",
    "    id +=[f\"{y1.year}-{y2.year}\"]\n",
    "    \n",
    "    y1 = add_year(y1)\n",
    "    y2 = add_year(y2)\n",
    "    \n",
    "df = pd.DataFrame([id, start, end]).transpose().set_axis(['session_id', 'start_date', 'end_date'], axis=1)\n",
    "df\n"
   ]
  },
  {
   "cell_type": "code",
   "execution_count": null,
   "metadata": {},
   "outputs": [],
   "source": []
  }
 ],
 "metadata": {
  "kernelspec": {
   "display_name": "Python 3.9.12 ('parlamint')",
   "language": "python",
   "name": "python3"
  },
  "language_info": {
   "codemirror_mode": {
    "name": "ipython",
    "version": 3
   },
   "file_extension": ".py",
   "mimetype": "text/x-python",
   "name": "python",
   "nbconvert_exporter": "python",
   "pygments_lexer": "ipython3",
   "version": "3.9.12"
  },
  "orig_nbformat": 4,
  "vscode": {
   "interpreter": {
    "hash": "14841a6b4cc69871db667c98dada800e63886d160dec0a761b7899c4378979be"
   }
  }
 },
 "nbformat": 4,
 "nbformat_minor": 2
}
