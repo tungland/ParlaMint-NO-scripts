{
 "cells": [
  {
   "cell_type": "code",
   "execution_count": 32,
   "metadata": {},
   "outputs": [],
   "source": [
    "import json\n",
    "import re\n",
    "\n",
    "import pandas as pd"
   ]
  },
  {
   "cell_type": "code",
   "execution_count": 3,
   "metadata": {},
   "outputs": [],
   "source": [
    "data = []\n",
    "with open('search_result.jl') as f:\n",
    "    for line in f:\n",
    "        data.append(json.loads(line))"
   ]
  },
  {
   "cell_type": "code",
   "execution_count": 4,
   "metadata": {},
   "outputs": [
    {
     "data": {
      "text/plain": [
       "8"
      ]
     },
     "execution_count": 4,
     "metadata": {},
     "output_type": "execute_result"
    }
   ],
   "source": [
    "len(data)"
   ]
  },
  {
   "cell_type": "code",
   "execution_count": 5,
   "metadata": {},
   "outputs": [
    {
     "name": "stdout",
     "output_type": "stream",
     "text": [
      "dict_keys(['Line Henriette Hjemdal (KrF)', 'Olemic Thommesen'])\n",
      "dict_keys(['Presidenten', 'Statsråd Anne Enger Lahnstein'])\n",
      "dict_keys(['Statsråd Kristin Halvorsen ;', 'Statsråd Karita Bekkemellem Orheim', 'Statsråden Karita Bekkemellem Orheim', 'Line Henriette Hjemdal'])\n",
      "dict_keys(['Carl. I. Hagen (Frp)', 'presidenten', 'President'])\n",
      "dict_keys(['Statsråd Sponheim', '(FrP)', 'Kenneth Svendsen h', 'Line Henriette Holten Hjemdal \\u2009(KrF) \\u2009'])\n",
      "dict_keys(['Frank J. Jensen (H)', 'Gjermund Hagesæther (FrP)', 'Representantene', 'Magne Rommetveit tok', 'Presidenter', 'Presidenten: Jorunn Ringstad', 'Nils. T. Bjørke', 'Ann Kathrine S. Tornås (KrF)', 'Gharahkhani', '(SV)', 'got Valle', 'Hill- Marta Solberg (A)', 'Flere', 'Hilde \\u2009Magnusson \\u2009Lydvo \\u2009(A) \\u2009', 'Presidentent', 'Magne Rommetvei', 'Heidi Gren', 'Line Henriette Hjemdal (Krf)', 'Ka ri Henriksen (A)', 'Torbjørn Anderen (Frp)', 'Anne Enger Lahnstein', 'Statsråd Kjell-Børge Freiberg Eva Kristin Hansen', 'Ola. T. Lånke', 'arit Nybakk', '(H)', 'Øivind Vaksdal (FrP)'])\n",
      "dict_keys(['Øivind Vaksdal (FrP)', 'Magnar Rommetveit', 'Line Henriette Hjemdal ', 'Flere fra salen', 'Torbjørn Jagland (A)', 'Presidenten.', 'Hans-Andreas Limi', 'va Kristin Hansen', 'Statsråd Ketil Solvik Olsen', '(Sp)', '«', 'Statsråd Einar Dørum', 'Hans Kristian Hognes (H)', 'Nils T. Bjerke', 'Ås Gunhild Woie Duesund (KrF)', 'Anna Ceselie Brustad (Sp)', 'Morten Wold hadde', '(Frp)', 'Forslag nr. 4 lyder', 'Jostein Zazzera (Frp)', 'Statstråd Anne Enger Lahnstein', 'Geir Ketil Hansen', 'Nils T.Bjørke', 'Statsråd Angelsen', 'Votering', 'Ine M. Søreide Eriksen (H)'])\n",
      "dict_keys(['Harald. T. Nesvik (FrP)', 'Morten Vold'])\n"
     ]
    }
   ],
   "source": [
    "for dct in data:\n",
    "    print(dct.keys())"
   ]
  },
  {
   "cell_type": "code",
   "execution_count": 6,
   "metadata": {},
   "outputs": [],
   "source": [
    "lst1 = data[:4]\n",
    "lst2 = data[4:]"
   ]
  },
  {
   "cell_type": "code",
   "execution_count": 27,
   "metadata": {},
   "outputs": [],
   "source": [
    "p = r'https:\\/\\/www\\.stortinget\\.no\\/no\\/Representanter-og-komiteer\\/Representantene\\/Representant\\/\\?perid=([A-Z]{2,5})'"
   ]
  },
  {
   "cell_type": "code",
   "execution_count": 30,
   "metadata": {},
   "outputs": [],
   "source": [
    "lst = list()\n",
    "for x in lst1:\n",
    "    for key, item in x.items():\n",
    "        for e in item:\n",
    " #           print(e)\n",
    "            m = re.match(p, e)\n",
    "            if m:\n",
    "                lst.append((key, m.group(1)))"
   ]
  },
  {
   "cell_type": "code",
   "execution_count": 61,
   "metadata": {},
   "outputs": [],
   "source": [
    "df1 = pd.DataFrame(lst)"
   ]
  },
  {
   "cell_type": "code",
   "execution_count": 62,
   "metadata": {},
   "outputs": [],
   "source": [
    "# for x in lst2:\n",
    "#     for key, item in x.items():\n",
    "#         x[key] = json.loads(item)"
   ]
  },
  {
   "cell_type": "code",
   "execution_count": 59,
   "metadata": {},
   "outputs": [],
   "source": [
    "olst = list()\n",
    "\n",
    "for x in lst2:\n",
    "    for key1, item1 in x.items():\n",
    "        for e in item1['organic_results']:\n",
    "            m = re.match(p, e['link'])\n",
    "            if m:\n",
    "                olst.append((key1, m.group(1)))"
   ]
  },
  {
   "cell_type": "code",
   "execution_count": 63,
   "metadata": {},
   "outputs": [],
   "source": [
    "df2 = pd.DataFrame(olst)"
   ]
  },
  {
   "cell_type": "code",
   "execution_count": 70,
   "metadata": {},
   "outputs": [],
   "source": [
    "df = pd.concat([df1, df2]).reset_index(drop=True)"
   ]
  },
  {
   "cell_type": "code",
   "execution_count": 72,
   "metadata": {},
   "outputs": [],
   "source": [
    "df.to_csv('search_alias.csv')"
   ]
  }
 ],
 "metadata": {
  "kernelspec": {
   "display_name": "Python 3.8.10 ('venv': venv)",
   "language": "python",
   "name": "python3"
  },
  "language_info": {
   "codemirror_mode": {
    "name": "ipython",
    "version": 3
   },
   "file_extension": ".py",
   "mimetype": "text/x-python",
   "name": "python",
   "nbconvert_exporter": "python",
   "pygments_lexer": "ipython3",
   "version": "3.8.10"
  },
  "orig_nbformat": 4,
  "vscode": {
   "interpreter": {
    "hash": "23adb1551cfb277e5827ea35b6ea1b2f5832eeda879717747a10666557b5f2b6"
   }
  }
 },
 "nbformat": 4,
 "nbformat_minor": 2
}
