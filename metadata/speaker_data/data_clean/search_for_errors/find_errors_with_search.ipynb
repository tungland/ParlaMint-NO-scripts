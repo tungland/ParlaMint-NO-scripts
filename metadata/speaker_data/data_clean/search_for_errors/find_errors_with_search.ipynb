{
 "cells": [
  {
   "cell_type": "code",
   "execution_count": 6,
   "metadata": {},
   "outputs": [],
   "source": [
    "from requests import get\n",
    "import json\n",
    "\n",
    "import googlesearch\n",
    "from time import sleep\n",
    "from random import randint\n",
    "from tqdm import tqdm"
   ]
  },
  {
   "cell_type": "markdown",
   "metadata": {},
   "source": [
    "Import problems to match"
   ]
  },
  {
   "cell_type": "code",
   "execution_count": 1,
   "metadata": {},
   "outputs": [],
   "source": [
    "# dct = dict()\n",
    "# count = 0\n",
    "# for x in tqdm(problems[0, 'name'][problems[0, 'name'] != ''].dropna()[11:]):\n",
    "#     dct[x] = list(googlesearch.search(x + ' stortinget'))\n",
    "    \n",
    "#     count += 1\n",
    "#     if count > 25:\n",
    "#         break\n",
    "#     sleep(randint(2, 8))"
   ]
  },
  {
   "cell_type": "code",
   "execution_count": 3,
   "metadata": {},
   "outputs": [],
   "source": [
    "# Search with serpapi. Freemium limit to 100\n",
    "url = 'https://serpapi.com/search.json?engine=google&q={}&api_key=8b91358622a90466ab7677d1a8bfa991d4ac42620bda7a2bed57d436b9ae2628'"
   ]
  },
  {
   "cell_type": "code",
   "execution_count": 2,
   "metadata": {},
   "outputs": [],
   "source": [
    "# dct = dict()\n",
    "# count = 0\n",
    "# for x in tqdm(problems[0, 'name'][problems[0, 'name'] != ''].dropna()[67:]):\n",
    "#     dct[x] = (get(url.format(x + ' stortinget'))).content.decode()\n",
    "    \n",
    "#     count += 1\n",
    "#     if count > 25:\n",
    "#         break\n",
    "   "
   ]
  },
  {
   "cell_type": "code",
   "execution_count": 4,
   "metadata": {},
   "outputs": [],
   "source": [
    "# with open('search_result.jl', 'a') as f:\n",
    "#     f.write(json.dumps(dct) + '\\n')"
   ]
  },
  {
   "cell_type": "code",
   "execution_count": 5,
   "metadata": {},
   "outputs": [],
   "source": [
    "# print(json.dumps(dct, indent=4) + '\\n')"
   ]
  },
  {
   "cell_type": "markdown",
   "metadata": {},
   "source": [
    "to add\n",
    "\n",
    "'Åshild Gunhild Woie Duesund (KrF) ADV'"
   ]
  },
  {
   "cell_type": "code",
   "execution_count": 9,
   "metadata": {},
   "outputs": [
    {
     "ename": "SyntaxError",
     "evalue": "invalid syntax (2723276217.py, line 1)",
     "output_type": "error",
     "traceback": [
      "\u001b[0;36m  File \u001b[0;32m\"/tmp/ipykernel_31982/2723276217.py\"\u001b[0;36m, line \u001b[0;32m1\u001b[0m\n\u001b[0;31m    1  2\u001b[0m\n\u001b[0m       ^\u001b[0m\n\u001b[0;31mSyntaxError\u001b[0m\u001b[0;31m:\u001b[0m invalid syntax\n"
     ]
    }
   ],
   "source": [
    "# import search results"
   ]
  }
 ],
 "metadata": {
  "kernelspec": {
   "display_name": "Python 3.8.10 ('venv': venv)",
   "language": "python",
   "name": "python3"
  },
  "language_info": {
   "codemirror_mode": {
    "name": "ipython",
    "version": 3
   },
   "file_extension": ".py",
   "mimetype": "text/x-python",
   "name": "python",
   "nbconvert_exporter": "python",
   "pygments_lexer": "ipython3",
   "version": "3.8.10"
  },
  "orig_nbformat": 4,
  "vscode": {
   "interpreter": {
    "hash": "23adb1551cfb277e5827ea35b6ea1b2f5832eeda879717747a10666557b5f2b6"
   }
  }
 },
 "nbformat": 4,
 "nbformat_minor": 2
}
