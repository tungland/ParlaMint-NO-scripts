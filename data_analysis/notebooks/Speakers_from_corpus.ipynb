{
 "cells": [
  {
   "cell_type": "markdown",
   "metadata": {},
   "source": [
    "# Speakers from corpus\n",
    "\n",
    "This notebook analyses u tags from parlamint\n",
    "\n",
    "Looks at all speakers from corpus"
   ]
  },
  {
   "cell_type": "code",
   "execution_count": 32,
   "metadata": {},
   "outputs": [],
   "source": [
    "import glob\n",
    "from bs4 import BeautifulSoup as bs\n",
    "import pandas as pd\n",
    "\n",
    "import lxml.etree as et\n",
    "\n",
    "from tqdm import tqdm"
   ]
  },
  {
   "cell_type": "code",
   "execution_count": 33,
   "metadata": {},
   "outputs": [],
   "source": [
    "files = glob.glob(\"../output/*\")"
   ]
  },
  {
   "cell_type": "code",
   "execution_count": 34,
   "metadata": {},
   "outputs": [
    {
     "name": "stderr",
     "output_type": "stream",
     "text": [
      "100%|██████████| 3285/3285 [00:08<00:00, 377.15it/s]\n"
     ]
    }
   ],
   "source": [
    "dct = dict()\n",
    "\n",
    "for file in tqdm(files):\n",
    "    xml = et.parse(file)\n",
    "    \n",
    "    for u in xml.findall(\"//{http://www.tei-c.org/ns/1.0}u\"):\n",
    "        dct.update(\n",
    "            { \n",
    "             u.attrib['{http://www.w3.org/XML/1998/namespace}id'] :\n",
    "                {\n",
    "                    'name' : u.attrib['name'], \n",
    "                    \"who\" : u.attrib['who']\n",
    "                }\n",
    "            }\n",
    "        )"
   ]
  },
  {
   "cell_type": "code",
   "execution_count": 35,
   "metadata": {},
   "outputs": [
    {
     "data": {
      "text/html": [
       "<div>\n",
       "<style scoped>\n",
       "    .dataframe tbody tr th:only-of-type {\n",
       "        vertical-align: middle;\n",
       "    }\n",
       "\n",
       "    .dataframe tbody tr th {\n",
       "        vertical-align: top;\n",
       "    }\n",
       "\n",
       "    .dataframe thead th {\n",
       "        text-align: right;\n",
       "    }\n",
       "</style>\n",
       "<table border=\"1\" class=\"dataframe\">\n",
       "  <thead>\n",
       "    <tr style=\"text-align: right;\">\n",
       "      <th></th>\n",
       "      <th>name</th>\n",
       "      <th>who</th>\n",
       "    </tr>\n",
       "  </thead>\n",
       "  <tbody>\n",
       "    <tr>\n",
       "      <th>ParlaMint-NO_2000-01_010123.ud1e23</th>\n",
       "      <td>Hans J. Røsjorde</td>\n",
       "      <td>HJR</td>\n",
       "    </tr>\n",
       "    <tr>\n",
       "      <th>ParlaMint-NO_2000-01_010123.ud1e67</th>\n",
       "      <td>Statsråd Otto Gregussen</td>\n",
       "      <td></td>\n",
       "    </tr>\n",
       "    <tr>\n",
       "      <th>ParlaMint-NO_2000-01_010123.ud1e269</th>\n",
       "      <td>Lodve Solholm</td>\n",
       "      <td>LOSO</td>\n",
       "    </tr>\n",
       "    <tr>\n",
       "      <th>ParlaMint-NO_2007-08_080226_lower_.ud2e39</th>\n",
       "      <td>Sigvald Oppebøen Hansen</td>\n",
       "      <td>SOH</td>\n",
       "    </tr>\n",
       "    <tr>\n",
       "      <th>ParlaMint-NO_2007-08_080226_lower_.ud2e48</th>\n",
       "      <td>Trond Lode (Sp)</td>\n",
       "      <td></td>\n",
       "    </tr>\n",
       "    <tr>\n",
       "      <th>...</th>\n",
       "      <td>...</td>\n",
       "      <td>...</td>\n",
       "    </tr>\n",
       "    <tr>\n",
       "      <th>ParlaMint-NO_2010-11_110511.ud2685e1036</th>\n",
       "      <td>Statsråd Lars Peder Brekk</td>\n",
       "      <td></td>\n",
       "    </tr>\n",
       "    <tr>\n",
       "      <th>ParlaMint-NO_2010-11_110511.ud2685e1043</th>\n",
       "      <td>Torstein Rudihagen (A)</td>\n",
       "      <td></td>\n",
       "    </tr>\n",
       "    <tr>\n",
       "      <th>ParlaMint-NO_2010-11_110511.ud2685e1050</th>\n",
       "      <td>Statsråd Lars Peder Brekk</td>\n",
       "      <td></td>\n",
       "    </tr>\n",
       "    <tr>\n",
       "      <th>ParlaMint-NO_2010-11_110511.ud2685e1057</th>\n",
       "      <td>Akhtar Chaudhry</td>\n",
       "      <td>AC</td>\n",
       "    </tr>\n",
       "    <tr>\n",
       "      <th>ParlaMint-NO_2010-11_110511.ud2685e1072</th>\n",
       "      <td>Akhtar Chaudhry</td>\n",
       "      <td>AC</td>\n",
       "    </tr>\n",
       "  </tbody>\n",
       "</table>\n",
       "<p>403831 rows × 2 columns</p>\n",
       "</div>"
      ],
      "text/plain": [
       "                                                                name   who\n",
       "ParlaMint-NO_2000-01_010123.ud1e23                  Hans J. Røsjorde   HJR\n",
       "ParlaMint-NO_2000-01_010123.ud1e67           Statsråd Otto Gregussen      \n",
       "ParlaMint-NO_2000-01_010123.ud1e269                    Lodve Solholm  LOSO\n",
       "ParlaMint-NO_2007-08_080226_lower_.ud2e39    Sigvald Oppebøen Hansen   SOH\n",
       "ParlaMint-NO_2007-08_080226_lower_.ud2e48            Trond Lode (Sp)      \n",
       "...                                                              ...   ...\n",
       "ParlaMint-NO_2010-11_110511.ud2685e1036    Statsråd Lars Peder Brekk      \n",
       "ParlaMint-NO_2010-11_110511.ud2685e1043       Torstein Rudihagen (A)      \n",
       "ParlaMint-NO_2010-11_110511.ud2685e1050    Statsråd Lars Peder Brekk      \n",
       "ParlaMint-NO_2010-11_110511.ud2685e1057              Akhtar Chaudhry    AC\n",
       "ParlaMint-NO_2010-11_110511.ud2685e1072              Akhtar Chaudhry    AC\n",
       "\n",
       "[403831 rows x 2 columns]"
      ]
     },
     "execution_count": 35,
     "metadata": {},
     "output_type": "execute_result"
    }
   ],
   "source": [
    "df = pd.DataFrame.from_dict(dct, orient='index')\n",
    "\n",
    "df"
   ]
  },
  {
   "cell_type": "code",
   "execution_count": 36,
   "metadata": {},
   "outputs": [
    {
     "name": "stdout",
     "output_type": "stream",
     "text": [
      "ERLBE1\n"
     ]
    }
   ],
   "source": [
    "import re\n",
    "p = r\"(?:person\\.)?([A-Za-zÆØÅæøå0-9]+)(?:_\\d+)?\"\n",
    "\n",
    "for x in df[df.who.str.contains('\\d', regex=True)].who.unique() :\n",
    "    m = re.match(p, x)\n",
    "    \n",
    "    print(m.group(1))"
   ]
  },
  {
   "cell_type": "code",
   "execution_count": 37,
   "metadata": {},
   "outputs": [
    {
     "data": {
      "text/html": [
       "<div>\n",
       "<style scoped>\n",
       "    .dataframe tbody tr th:only-of-type {\n",
       "        vertical-align: middle;\n",
       "    }\n",
       "\n",
       "    .dataframe tbody tr th {\n",
       "        vertical-align: top;\n",
       "    }\n",
       "\n",
       "    .dataframe thead th {\n",
       "        text-align: right;\n",
       "    }\n",
       "</style>\n",
       "<table border=\"1\" class=\"dataframe\">\n",
       "  <thead>\n",
       "    <tr style=\"text-align: right;\">\n",
       "      <th></th>\n",
       "      <th>name</th>\n",
       "      <th>who</th>\n",
       "    </tr>\n",
       "  </thead>\n",
       "  <tbody>\n",
       "    <tr>\n",
       "      <th>0</th>\n",
       "      <td>Hans J. Røsjorde</td>\n",
       "      <td>HJR</td>\n",
       "    </tr>\n",
       "    <tr>\n",
       "      <th>1</th>\n",
       "      <td>Statsråd Otto Gregussen</td>\n",
       "      <td></td>\n",
       "    </tr>\n",
       "    <tr>\n",
       "      <th>2</th>\n",
       "      <td>Lodve Solholm</td>\n",
       "      <td>LOSO</td>\n",
       "    </tr>\n",
       "    <tr>\n",
       "      <th>3</th>\n",
       "      <td>Sigvald Oppebøen Hansen</td>\n",
       "      <td>SOH</td>\n",
       "    </tr>\n",
       "    <tr>\n",
       "      <th>4</th>\n",
       "      <td>Trond Lode (Sp)</td>\n",
       "      <td></td>\n",
       "    </tr>\n",
       "    <tr>\n",
       "      <th>...</th>\n",
       "      <td>...</td>\n",
       "      <td>...</td>\n",
       "    </tr>\n",
       "    <tr>\n",
       "      <th>2746</th>\n",
       "      <td>Andersen Anundsen (FrP)</td>\n",
       "      <td></td>\n",
       "    </tr>\n",
       "    <tr>\n",
       "      <th>2747</th>\n",
       "      <td>Olav Einar Skogholt (A)</td>\n",
       "      <td></td>\n",
       "    </tr>\n",
       "    <tr>\n",
       "      <th>2748</th>\n",
       "      <td>Statsråd Angelsen</td>\n",
       "      <td></td>\n",
       "    </tr>\n",
       "    <tr>\n",
       "      <th>2749</th>\n",
       "      <td>John I. Alveim (Frp)</td>\n",
       "      <td></td>\n",
       "    </tr>\n",
       "    <tr>\n",
       "      <th>2750</th>\n",
       "      <td>Statsråd Henrik Asheim</td>\n",
       "      <td></td>\n",
       "    </tr>\n",
       "  </tbody>\n",
       "</table>\n",
       "<p>2751 rows × 2 columns</p>\n",
       "</div>"
      ],
      "text/plain": [
       "                         name   who\n",
       "0            Hans J. Røsjorde   HJR\n",
       "1     Statsråd Otto Gregussen      \n",
       "2               Lodve Solholm  LOSO\n",
       "3     Sigvald Oppebøen Hansen   SOH\n",
       "4             Trond Lode (Sp)      \n",
       "...                       ...   ...\n",
       "2746  Andersen Anundsen (FrP)      \n",
       "2747  Olav Einar Skogholt (A)      \n",
       "2748        Statsråd Angelsen      \n",
       "2749     John I. Alveim (Frp)      \n",
       "2750   Statsråd Henrik Asheim      \n",
       "\n",
       "[2751 rows x 2 columns]"
      ]
     },
     "execution_count": 37,
     "metadata": {},
     "output_type": "execute_result"
    }
   ],
   "source": [
    "df.reset_index(drop=True).drop_duplicates().reset_index(drop=True)"
   ]
  },
  {
   "cell_type": "code",
   "execution_count": 38,
   "metadata": {},
   "outputs": [
    {
     "data": {
      "text/html": [
       "<div>\n",
       "<style scoped>\n",
       "    .dataframe tbody tr th:only-of-type {\n",
       "        vertical-align: middle;\n",
       "    }\n",
       "\n",
       "    .dataframe tbody tr th {\n",
       "        vertical-align: top;\n",
       "    }\n",
       "\n",
       "    .dataframe thead th {\n",
       "        text-align: right;\n",
       "    }\n",
       "</style>\n",
       "<table border=\"1\" class=\"dataframe\">\n",
       "  <thead>\n",
       "    <tr style=\"text-align: right;\">\n",
       "      <th></th>\n",
       "      <th>name</th>\n",
       "      <th>who</th>\n",
       "    </tr>\n",
       "  </thead>\n",
       "  <tbody>\n",
       "  </tbody>\n",
       "</table>\n",
       "</div>"
      ],
      "text/plain": [
       "Empty DataFrame\n",
       "Columns: [name, who]\n",
       "Index: []"
      ]
     },
     "execution_count": 38,
     "metadata": {},
     "output_type": "execute_result"
    }
   ],
   "source": [
    "df.loc[df.who == 'person']"
   ]
  },
  {
   "cell_type": "code",
   "execution_count": null,
   "metadata": {},
   "outputs": [],
   "source": []
  }
 ],
 "metadata": {
  "kernelspec": {
   "display_name": "Python 3.10.4 ('.venv': venv)",
   "language": "python",
   "name": "python3"
  },
  "language_info": {
   "codemirror_mode": {
    "name": "ipython",
    "version": 3
   },
   "file_extension": ".py",
   "mimetype": "text/x-python",
   "name": "python",
   "nbconvert_exporter": "python",
   "pygments_lexer": "ipython3",
   "version": "3.10.4"
  },
  "orig_nbformat": 4,
  "vscode": {
   "interpreter": {
    "hash": "f4d11d654f730bb050d495d61fcfc0023d5f873bb797e89c8c9bc2c674d4c880"
   }
  }
 },
 "nbformat": 4,
 "nbformat_minor": 2
}
