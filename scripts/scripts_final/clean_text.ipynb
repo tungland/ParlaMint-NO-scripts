{
 "cells": [
  {
   "cell_type": "code",
   "execution_count": 59,
   "metadata": {},
   "outputs": [],
   "source": [
    "import lxml.etree as et\n",
    "from glob import glob"
   ]
  },
  {
   "cell_type": "code",
   "execution_count": 60,
   "metadata": {},
   "outputs": [],
   "source": [
    "doc = \"/home/larsm/my_projects/ParlaMint/Data/ParlaMint-NO/ParlaMint-NO_2008-04-08-lower.ana.xml\"\n",
    "doc = \"/home/larsm/my_projects/ParlaMint/Data/ParlaMint-NO/ParlaMint-NO_2004-09-30.xml\"\n",
    "file_paths = \"/home/larsm/my_projects/ParlaMint/Data/ParlaMint-NO/*.xml\"\n",
    "\n",
    "\n",
    "\n",
    "parser = et.XMLParser(remove_blank_text=True)\n",
    "\n"
   ]
  },
  {
   "cell_type": "markdown",
   "metadata": {},
   "source": [
    "To remove\n",
    " \"­\"\n"
   ]
  },
  {
   "cell_type": "code",
   "execution_count": 61,
   "metadata": {},
   "outputs": [
    {
     "data": {
      "text/plain": [
       "'\\xa0'"
      ]
     },
     "execution_count": 61,
     "metadata": {},
     "output_type": "execute_result"
    }
   ],
   "source": [
    "# To remove\n",
    "# U+00ad\n",
    "\"­\"\n",
    "\n",
    "# To replace\n",
    "#U+00a0\n",
    "\" \""
   ]
  },
  {
   "cell_type": "code",
   "execution_count": 62,
   "metadata": {},
   "outputs": [],
   "source": [
    "def replace_text(str):\n",
    "    return str.replace(\"­\", \"\").replace(\" \", \" \")\n",
    "\n",
    "def clean_text(xml):\n",
    "    deleted_ids = list()\n",
    "    \n",
    "    for node in xml.iter():    \n",
    "        if node.text:\n",
    "            node.text = replace_text(node.text)\n",
    "        if node.tag == \"{http://www.tei-c.org/ns/1.0}w\":\n",
    "            if \"lemma\" in node.attrib:\n",
    "                node.attrib[\"lemma\"] = replace_text(node.attrib[\"lemma\"])\n",
    "                if node.attrib[\"lemma\"] == \"$ \":\n",
    "                    # deleted_ids.append(node.attrib['{http://www.w3.org/XML/1998/namespace}id'])\n",
    "                    deleted_id = node.attrib['{http://www.w3.org/XML/1998/namespace}id']\n",
    "                    parent = node.getparent()\n",
    "                    grandparent = parent.getparent()\n",
    "                    grandparent.remove(parent)\n",
    "                    \n",
    "                    links = grandparent.findall(\"{http://www.tei-c.org/ns/1.0}linkGrp/{http://www.tei-c.org/ns/1.0}link\")\n",
    "                    \n",
    "                    for link in links:\n",
    "                        if deleted_id in link.attrib[\"target\"]:\n",
    "                            print(deleted_id)\n",
    "                            link.getparent().remove(link)\n",
    "                            \n",
    "                            \n",
    "                    \n",
    "\n",
    "                    "
   ]
  },
  {
   "cell_type": "code",
   "execution_count": 63,
   "metadata": {},
   "outputs": [
    {
     "name": "stdout",
     "output_type": "stream",
     "text": [
      "ParlaMint-NO_2022-03-22.ana.segd109e490.1.14.1\n",
      "ParlaMint-NO_2022-03-22.ana.segd109e490.1.14.1\n",
      "ParlaMint-NO_2022-03-22.ana.segd109e490.1.21.1\n",
      "ParlaMint-NO_2022-03-22.ana.segd109e490.1.21.1\n",
      "ParlaMint-NO_2022-03-22.ana.segd109e490.1.21.1\n",
      "ParlaMint-NO_2022-03-22.ana.segd109e679.1.10.1\n",
      "ParlaMint-NO_2022-03-22.ana.segd109e679.1.10.1\n",
      "ParlaMint-NO_2022-03-22.ana.segd109e697.1.14.1\n",
      "ParlaMint-NO_2022-03-22.ana.segd109e697.1.14.1\n",
      "ParlaMint-NO_2022-03-22.ana.segd109e697.1.21.1\n",
      "ParlaMint-NO_2022-03-22.ana.segd109e697.1.21.1\n",
      "ParlaMint-NO_2022-03-22.ana.segd109e697.1.21.1\n",
      "ParlaMint-NO_2022-03-22.ana.segd109e761.1.10.1\n",
      "ParlaMint-NO_2022-03-22.ana.segd109e761.1.10.1\n",
      "ParlaMint-NO_2022-03-22.ana.segd109e778.1.12.1\n",
      "ParlaMint-NO_2022-03-22.ana.segd109e778.1.12.1\n",
      "ParlaMint-NO_2022-03-22.ana.segd109e778.1.19.1\n",
      "ParlaMint-NO_2022-03-22.ana.segd109e778.1.19.1\n",
      "ParlaMint-NO_2022-03-22.ana.segd109e778.1.19.1\n",
      "ParlaMint-NO_2022-03-22.ana.segd109e872.1.11.1\n",
      "ParlaMint-NO_2022-03-22.ana.segd109e872.1.11.1\n",
      "ParlaMint-NO_2022-03-22.ana.segd109e872.1.13.1\n",
      "ParlaMint-NO_2022-03-22.ana.segd109e872.1.13.1\n",
      "ParlaMint-NO_2022-03-22.ana.segd109e872.1.13.1\n",
      "ParlaMint-NO_2022-03-22.ana.segd109e872.1.13.1\n",
      "ParlaMint-NO_2022-03-22.ana.segd109e920.1.16.1\n",
      "ParlaMint-NO_2022-03-22.ana.segd109e920.1.16.1\n",
      "ParlaMint-NO_2022-03-22.ana.segd109e1140.2.7.1\n",
      "ParlaMint-NO_2022-03-22.ana.segd109e1140.2.7.1\n",
      "ParlaMint-NO_2022-03-22.ana.segd109e1140.2.9.1\n",
      "ParlaMint-NO_2022-03-22.ana.segd109e1140.2.9.1\n",
      "ParlaMint-NO_2022-03-22.ana.segd109e1140.2.9.1\n",
      "ParlaMint-NO_2022-03-22.ana.segd109e1140.2.9.1\n",
      "ParlaMint-NO_2022-03-22.ana.segd109e1140.3.15.1\n",
      "ParlaMint-NO_2022-03-22.ana.segd109e1140.3.15.1\n",
      "ParlaMint-NO_2022-03-22.ana.segd109e1140.3.15.1\n",
      "ParlaMint-NO_2022-03-22.ana.segd109e1281.1.5.1\n",
      "ParlaMint-NO_2022-03-22.ana.segd109e1281.1.5.1\n",
      "ParlaMint-NO_2022-03-22.ana.segd109e1281.1.5.1\n",
      "ParlaMint-NO_2022-03-22.ana.segd109e1465.1.5.1\n",
      "ParlaMint-NO_2022-03-22.ana.segd109e1465.1.5.1\n",
      "ParlaMint-NO_2022-03-22.ana.segd109e1465.1.5.1\n",
      "ParlaMint-NO_2022-03-22.ana.segd109e1488.1.16.1\n",
      "ParlaMint-NO_2022-03-22.ana.segd109e1488.1.16.1\n",
      "ParlaMint-NO_2022-03-22.ana.segd109e1488.1.16.1\n",
      "ParlaMint-NO_2022-03-22.ana.segd109e1488.1.22.1\n",
      "ParlaMint-NO_2022-03-22.ana.segd109e1488.1.22.1\n",
      "ParlaMint-NO_2022-03-22.ana.segd109e1829.1.7.1\n",
      "ParlaMint-NO_2022-03-22.ana.segd109e1829.1.7.1\n",
      "ParlaMint-NO_2022-03-22.ana.segd109e1853.1.7.1\n",
      "ParlaMint-NO_2022-03-22.ana.segd109e1853.1.7.1\n",
      "ParlaMint-NO_2022-03-22.ana.segd109e1853.1.7.1\n",
      "ParlaMint-NO_2022-03-22.ana.segd109e1872.1.7.1\n",
      "ParlaMint-NO_2022-03-22.ana.segd109e1872.1.7.1\n",
      "ParlaMint-NO_2022-03-22.ana.segd109e1897.1.7.1\n",
      "ParlaMint-NO_2022-03-22.ana.segd109e1897.1.7.1\n",
      "ParlaMint-NO_2022-03-22.ana.segd109e1897.1.7.1\n",
      "ParlaMint-NO_2022-03-22.ana.segd109e1933.1.11.1\n",
      "ParlaMint-NO_2022-03-22.ana.segd109e1933.1.11.1\n",
      "ParlaMint-NO_2022-03-22.ana.segd109e1933.1.11.1\n",
      "ParlaMint-NO_2022-03-22.ana.segd109e1933.1.16.1\n",
      "ParlaMint-NO_2022-03-22.ana.segd109e1933.1.16.1\n",
      "ParlaMint-NO_2022-03-22.ana.segd109e1933.1.16.1\n",
      "ParlaMint-NO_2022-03-22.ana.segd109e1976.1.3.1\n",
      "ParlaMint-NO_2022-03-22.ana.segd109e1976.1.3.1\n",
      "ParlaMint-NO_2022-03-22.ana.segd109e1976.1.3.1\n",
      "ParlaMint-NO_2022-03-22.ana.segd109e2104.1.7.1\n",
      "ParlaMint-NO_2022-03-22.ana.segd109e2104.1.7.1\n",
      "ParlaMint-NO_2022-03-22.ana.segd109e2104.1.7.1\n",
      "ParlaMint-NO_2022-03-22.ana.segd109e2189.1.3.1\n",
      "ParlaMint-NO_2022-03-22.ana.segd109e2189.1.3.1\n",
      "ParlaMint-NO_2022-03-22.ana.segd109e2189.1.3.1\n",
      "ParlaMint-NO_2022-03-22.ana.segd109e2224.1.7.1\n",
      "ParlaMint-NO_2022-03-22.ana.segd109e2224.1.7.1\n",
      "ParlaMint-NO_2022-03-22.ana.segd109e2329.1.7.1\n",
      "ParlaMint-NO_2022-03-22.ana.segd109e2329.1.7.1\n",
      "ParlaMint-NO_2022-03-22.ana.segd109e2329.1.7.1\n",
      "ParlaMint-NO_2022-03-22.ana.segd109e2346.1.7.1\n",
      "ParlaMint-NO_2022-03-22.ana.segd109e2346.1.7.1\n",
      "ParlaMint-NO_2022-03-22.ana.segd109e2346.1.7.1\n",
      "ParlaMint-NO_2022-03-22.ana.segd109e2370.1.12.1\n",
      "ParlaMint-NO_2022-03-22.ana.segd109e2370.1.12.1\n",
      "ParlaMint-NO_2022-03-22.ana.segd109e2370.1.12.1\n",
      "ParlaMint-NO_2022-03-22.ana.segd109e2385.1.3.1\n",
      "ParlaMint-NO_2022-03-22.ana.segd109e2385.1.3.1\n",
      "ParlaMint-NO_2022-03-22.ana.segd109e2441.1.32.1\n",
      "ParlaMint-NO_2022-03-22.ana.segd109e2441.1.37.1\n",
      "ParlaMint-NO_2022-03-22.ana.segd109e2441.1.37.1\n",
      "ParlaMint-NO_2022-03-22.ana.segd109e2446.1.11.1\n",
      "ParlaMint-NO_2022-03-22.ana.segd109e2446.1.11.1\n",
      "ParlaMint-NO_2004-09-30.ana.segd1203e47.1.26.1\n",
      "ParlaMint-NO_2004-09-30.ana.segd1203e47.1.26.1\n",
      "ParlaMint-NO_2004-09-30.ana.segd1203e47.1.38.1\n",
      "ParlaMint-NO_2004-09-30.ana.segd1203e47.1.95.1\n",
      "ParlaMint-NO_2004-09-30.ana.segd1203e47.1.95.1\n",
      "ParlaMint-NO_2004-09-30.ana.segd1203e651.1.6.1\n",
      "ParlaMint-NO_2004-09-30.ana.segd1203e651.1.6.1\n",
      "ParlaMint-NO_2004-09-30.ana.segd1203e1023.3.12.1\n",
      "ParlaMint-NO_2004-09-30.ana.segd1203e1023.3.12.1\n",
      "ParlaMint-NO_2004-09-30.ana.segd1203e1023.3.12.1\n",
      "ParlaMint-NO_2004-09-30.ana.segd1203e1023.3.12.1\n"
     ]
    }
   ],
   "source": [
    "for doc in glob(file_paths):\n",
    "    xml = et.parse(doc, parser)\n",
    "    clean_text(xml)\n",
    "    xml.write(doc, pretty_print=True, encoding='utf-8')"
   ]
  },
  {
   "cell_type": "code",
   "execution_count": 56,
   "metadata": {},
   "outputs": [],
   "source": [
    "xml.write(doc, pretty_print=True, encoding='utf-8')"
   ]
  },
  {
   "cell_type": "code",
   "execution_count": null,
   "metadata": {},
   "outputs": [
    {
     "data": {
      "text/plain": [
       "'/home/larsm/my_projects/ParlaMint/Data/ParlaMint-NO/ParlaMint-NO_2008-04-08-lower.ana.xml'"
      ]
     },
     "execution_count": 3,
     "metadata": {},
     "output_type": "execute_result"
    }
   ],
   "source": [
    "doc"
   ]
  },
  {
   "cell_type": "code",
   "execution_count": null,
   "metadata": {},
   "outputs": [],
   "source": [
    "xml"
   ]
  }
 ],
 "metadata": {
  "kernelspec": {
   "display_name": "Python 3.10.6 ('venv': venv)",
   "language": "python",
   "name": "python3"
  },
  "language_info": {
   "codemirror_mode": {
    "name": "ipython",
    "version": 3
   },
   "file_extension": ".py",
   "mimetype": "text/x-python",
   "name": "python",
   "nbconvert_exporter": "python",
   "pygments_lexer": "ipython3",
   "version": "3.10.6"
  },
  "orig_nbformat": 4,
  "vscode": {
   "interpreter": {
    "hash": "23adb1551cfb277e5827ea35b6ea1b2f5832eeda879717747a10666557b5f2b6"
   }
  }
 },
 "nbformat": 4,
 "nbformat_minor": 2
}
