{
 "cells": [
  {
   "cell_type": "code",
   "execution_count": 1,
   "metadata": {},
   "outputs": [],
   "source": [
    "import lxml.etree as et\n",
    "from glob import glob\n",
    "\n",
    "doc = \"/home/larsm/my_projects/ParlaMint/Data/ParlaMint-NO/ParlaMint-NO_2008-04-08-lower.ana.xml\"\n",
    "doc = \"/home/larsm/my_projects/ParlaMint/Data/ParlaMint-NO/ParlaMint-NO_2004-09-30.xml\"\n",
    "file_paths = \"/home/larsm/my_projects/ParlaMint/Data/ParlaMint-NO/*.xml\"\n",
    "\n",
    "\n",
    "ns = {\"tei\" : \"http://www.tei-c.org/ns/1.0\"}\n",
    "parser = et.XMLParser(remove_blank_text=True)\n"
   ]
  },
  {
   "cell_type": "code",
   "execution_count": 2,
   "metadata": {},
   "outputs": [],
   "source": [
    "for doc in glob(file_paths):\n",
    "    if \"ana\" in doc.split(\".\"):\n",
    "        xml = et.parse(doc, parser)\n",
    "        #print(doc)\n",
    "        break"
   ]
  },
  {
   "cell_type": "code",
   "execution_count": 4,
   "metadata": {},
   "outputs": [],
   "source": [
    "def rewrite_tag(link1, *links):\n",
    "    \"Make link2 a dependant of link 1\"\n",
    "    root = link1.attrib[\"target\"].split()[1]\n",
    "    \n",
    "    for link in links:\n",
    "        link.attrib[\"ana\"] = \"ud-syn:parataxis\"\n",
    "        self_ = link.attrib[\"target\"].split()[1]\n",
    "        link.attrib[\"target\"] = \" \".join([root, self_])           \n",
    "        #link.attrib[\"target\"] = \"JULETRE\"\n",
    "    "
   ]
  },
  {
   "cell_type": "code",
   "execution_count": 5,
   "metadata": {},
   "outputs": [
    {
     "name": "stdout",
     "output_type": "stream",
     "text": [
      "0.04708383961117862\n"
     ]
    }
   ],
   "source": [
    "tot = 0\n",
    "\n",
    "for linkGrp in xml.findall(\"//{http://www.tei-c.org/ns/1.0}linkGrp\"):\n",
    "    links = linkGrp.findall(\"{http://www.tei-c.org/ns/1.0}link\")\n",
    "    \n",
    "    count = 0\n",
    "    links_to_change = list()\n",
    "    \n",
    "    for link in links:\n",
    "        if link.attrib[\"ana\"] == \"ud-syn:root\":\n",
    "            count += 1\n",
    "            links_to_change.append(link)\n",
    "            \n",
    "    rewrite_tag(links_to_change[0], *links_to_change[1:])\n",
    "                \n",
    "    if count > 1:\n",
    "        #print(count)\n",
    "        tot += 1\n",
    "        \n",
    "        \n",
    "        \n",
    "print(tot / len(xml.findall(\"//{http://www.tei-c.org/ns/1.0}linkGrp\")))\n",
    "            \n",
    "    "
   ]
  },
  {
   "cell_type": "code",
   "execution_count": 6,
   "metadata": {},
   "outputs": [],
   "source": [
    "xml.write(\"test.xml\", pretty_print=True, encoding='utf-8')"
   ]
  },
  {
   "cell_type": "code",
   "execution_count": 30,
   "metadata": {},
   "outputs": [],
   "source": [
    "def process_sent(s):\n",
    "    id = s.attrib['{http://www.w3.org/XML/1998/namespace}id']\n",
    "    \n",
    "    linkGrp = s.find(\"{http://www.tei-c.org/ns/1.0}linkGrp\")\n",
    "    links = linkGrp.findall(\"{http://www.tei-c.org/ns/1.0}link\")\n",
    "    \n",
    "    for link in links:\n",
    "        if link.attrib[\"ana\"] == \"ud-syn:root\":\n",
    "            old_attrib_link =  link.attrib[\"target\"].split()[1]\n",
    "            new_attrib = f\"#{id} {old_attrib_link}\" \n",
    "            link.attrib[\"target\"] = new_attrib"
   ]
  },
  {
   "cell_type": "code",
   "execution_count": 31,
   "metadata": {},
   "outputs": [],
   "source": [
    "def parse_doc(doc):\n",
    "    xml = et.parse(doc, parser)\n",
    "\n",
    "    sents = xml.xpath(\"//tei:s\", namespaces=ns)\n",
    "    \n",
    "    for s in sents:\n",
    "        process_sent(s)\n",
    "    \n",
    "    \n",
    "    \n",
    "    xml.write(doc, pretty_print=True, encoding='utf-8')\n"
   ]
  },
  {
   "cell_type": "code",
   "execution_count": 32,
   "metadata": {},
   "outputs": [],
   "source": [
    "for doc in glob(file_paths):\n",
    "    parse_doc(doc)"
   ]
  },
  {
   "cell_type": "code",
   "execution_count": null,
   "metadata": {},
   "outputs": [],
   "source": []
  }
 ],
 "metadata": {
  "kernelspec": {
   "display_name": "Python 3.10.6 ('venv': venv)",
   "language": "python",
   "name": "python3"
  },
  "language_info": {
   "codemirror_mode": {
    "name": "ipython",
    "version": 3
   },
   "file_extension": ".py",
   "mimetype": "text/x-python",
   "name": "python",
   "nbconvert_exporter": "python",
   "pygments_lexer": "ipython3",
   "version": "3.10.6"
  },
  "orig_nbformat": 4,
  "vscode": {
   "interpreter": {
    "hash": "23adb1551cfb277e5827ea35b6ea1b2f5832eeda879717747a10666557b5f2b6"
   }
  }
 },
 "nbformat": 4,
 "nbformat_minor": 2
}
